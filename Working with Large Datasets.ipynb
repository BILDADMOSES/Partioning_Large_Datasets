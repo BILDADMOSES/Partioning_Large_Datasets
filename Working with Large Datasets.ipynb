{
 "cells": [
  {
   "attachments": {},
   "cell_type": "markdown",
   "metadata": {},
   "source": [
    "## Memory Errors when working with large datasets\n",
    "When trying to import a large dataset to dataframe format with pandas (for example, using the read_csv function), you are likely to run into MemoryError. This error indicates that you have run out of memory in your RAM. Pandas uses in-memory analytics, so larger-than-memory datasets won’t load. Additionally, any operations performed on the dataframe require memory as well."
   ]
  },
  {
   "cell_type": "code",
   "execution_count": 1,
   "metadata": {},
   "outputs": [],
   "source": [
    "import pandas as pd"
   ]
  },
  {
   "attachments": {},
   "cell_type": "markdown",
   "metadata": {},
   "source": [
    "## Dask library\n",
    "One of the solutions to memory error is to use another library. Here Dask comes in handy. Dask is a Python library for parallel computing, which is able to perform computations on large datasets while scaling well-known Python libraries such as pandas, NumPy, and scikit-learn.\n",
    "\n",
    "Dask splits the dataset into a number of partitions. Unlike pandas, each Dask partition is sent to a separate CPU core. This feature allows us to work on a larger-than-memory dataset but also speeds up the computations on that dataset."
   ]
  },
  {
   "attachments": {},
   "cell_type": "markdown",
   "metadata": {},
   "source": [
    "## Dask DataFrame\n",
    "Dask DataFrame is a collection of smaller pandas DataFrames, split along the index."
   ]
  },
  {
   "cell_type": "code",
   "execution_count": 8,
   "metadata": {},
   "outputs": [],
   "source": [
    "import dask.dataframe as dd\n",
    "from dask.distributed import Client, LocalCluster"
   ]
  },
  {
   "cell_type": "code",
   "execution_count": 14,
   "metadata": {},
   "outputs": [
    {
     "name": "stderr",
     "output_type": "stream",
     "text": [
      "C:\\Users\\Bildad Otieno\\anaconda3\\lib\\site-packages\\distributed\\node.py:179: UserWarning: Port 8787 is already in use.\n",
      "Perhaps you already have a cluster running?\n",
      "Hosting the HTTP server on port 57985 instead\n",
      "  warnings.warn(\n"
     ]
    },
    {
     "data": {
      "text/plain": [
       "131"
      ]
     },
     "execution_count": 14,
     "metadata": {},
     "output_type": "execute_result"
    }
   ],
   "source": [
    "#read a single CSV file\n",
    "df = dd.read_csv('en-fr.csv')\n",
    "\n",
    "# Set up a LocalCluster with four workers\n",
    "cluster = LocalCluster(n_workers=4)\n",
    "client = Client(cluster)\n",
    "#Check the number of partitions\n",
    "df.npartitions"
   ]
  },
  {
   "cell_type": "code",
   "execution_count": 11,
   "metadata": {},
   "outputs": [
    {
     "data": {
      "text/html": [
       "<div><strong>Dask DataFrame Structure:</strong></div>\n",
       "<div>\n",
       "<style scoped>\n",
       "    .dataframe tbody tr th:only-of-type {\n",
       "        vertical-align: middle;\n",
       "    }\n",
       "\n",
       "    .dataframe tbody tr th {\n",
       "        vertical-align: top;\n",
       "    }\n",
       "\n",
       "    .dataframe thead th {\n",
       "        text-align: right;\n",
       "    }\n",
       "</style>\n",
       "<table border=\"1\" class=\"dataframe\">\n",
       "  <thead>\n",
       "    <tr style=\"text-align: right;\">\n",
       "      <th></th>\n",
       "      <th>en</th>\n",
       "      <th>fr</th>\n",
       "    </tr>\n",
       "    <tr>\n",
       "      <th>npartitions=4</th>\n",
       "      <th></th>\n",
       "      <th></th>\n",
       "    </tr>\n",
       "  </thead>\n",
       "  <tbody>\n",
       "    <tr>\n",
       "      <th></th>\n",
       "      <td>object</td>\n",
       "      <td>object</td>\n",
       "    </tr>\n",
       "    <tr>\n",
       "      <th></th>\n",
       "      <td>...</td>\n",
       "      <td>...</td>\n",
       "    </tr>\n",
       "    <tr>\n",
       "      <th></th>\n",
       "      <td>...</td>\n",
       "      <td>...</td>\n",
       "    </tr>\n",
       "    <tr>\n",
       "      <th></th>\n",
       "      <td>...</td>\n",
       "      <td>...</td>\n",
       "    </tr>\n",
       "    <tr>\n",
       "      <th></th>\n",
       "      <td>...</td>\n",
       "      <td>...</td>\n",
       "    </tr>\n",
       "  </tbody>\n",
       "</table>\n",
       "</div>\n",
       "<div>Dask Name: repartition, 135 tasks</div>"
      ],
      "text/plain": [
       "Dask DataFrame Structure:\n",
       "                   en      fr\n",
       "npartitions=4                \n",
       "               object  object\n",
       "                  ...     ...\n",
       "                  ...     ...\n",
       "                  ...     ...\n",
       "                  ...     ...\n",
       "Dask Name: repartition, 135 tasks"
      ]
     },
     "execution_count": 11,
     "metadata": {},
     "output_type": "execute_result"
    }
   ],
   "source": [
    "#Change the number of partitions\n",
    "df.repartition(npartitions=4)"
   ]
  },
  {
   "cell_type": "code",
   "execution_count": 11,
   "metadata": {},
   "outputs": [
    {
     "data": {
      "text/plain": [
       "['C:Users\\\\Bildad Otieno\\\\Documents\\\\Practice\\\\Eng-French\\\\EF1.csv\\\\000.part',\n",
       " 'C:Users\\\\Bildad Otieno\\\\Documents\\\\Practice\\\\Eng-French\\\\EF1.csv\\\\001.part',\n",
       " 'C:Users\\\\Bildad Otieno\\\\Documents\\\\Practice\\\\Eng-French\\\\EF1.csv\\\\002.part',\n",
       " 'C:Users\\\\Bildad Otieno\\\\Documents\\\\Practice\\\\Eng-French\\\\EF1.csv\\\\003.part',\n",
       " 'C:Users\\\\Bildad Otieno\\\\Documents\\\\Practice\\\\Eng-French\\\\EF1.csv\\\\004.part',\n",
       " 'C:Users\\\\Bildad Otieno\\\\Documents\\\\Practice\\\\Eng-French\\\\EF1.csv\\\\005.part',\n",
       " 'C:Users\\\\Bildad Otieno\\\\Documents\\\\Practice\\\\Eng-French\\\\EF1.csv\\\\006.part',\n",
       " 'C:Users\\\\Bildad Otieno\\\\Documents\\\\Practice\\\\Eng-French\\\\EF1.csv\\\\007.part',\n",
       " 'C:Users\\\\Bildad Otieno\\\\Documents\\\\Practice\\\\Eng-French\\\\EF1.csv\\\\008.part',\n",
       " 'C:Users\\\\Bildad Otieno\\\\Documents\\\\Practice\\\\Eng-French\\\\EF1.csv\\\\009.part',\n",
       " 'C:Users\\\\Bildad Otieno\\\\Documents\\\\Practice\\\\Eng-French\\\\EF1.csv\\\\010.part',\n",
       " 'C:Users\\\\Bildad Otieno\\\\Documents\\\\Practice\\\\Eng-French\\\\EF1.csv\\\\011.part',\n",
       " 'C:Users\\\\Bildad Otieno\\\\Documents\\\\Practice\\\\Eng-French\\\\EF1.csv\\\\012.part',\n",
       " 'C:Users\\\\Bildad Otieno\\\\Documents\\\\Practice\\\\Eng-French\\\\EF1.csv\\\\013.part',\n",
       " 'C:Users\\\\Bildad Otieno\\\\Documents\\\\Practice\\\\Eng-French\\\\EF1.csv\\\\014.part',\n",
       " 'C:Users\\\\Bildad Otieno\\\\Documents\\\\Practice\\\\Eng-French\\\\EF1.csv\\\\015.part',\n",
       " 'C:Users\\\\Bildad Otieno\\\\Documents\\\\Practice\\\\Eng-French\\\\EF1.csv\\\\016.part',\n",
       " 'C:Users\\\\Bildad Otieno\\\\Documents\\\\Practice\\\\Eng-French\\\\EF1.csv\\\\017.part',\n",
       " 'C:Users\\\\Bildad Otieno\\\\Documents\\\\Practice\\\\Eng-French\\\\EF1.csv\\\\018.part',\n",
       " 'C:Users\\\\Bildad Otieno\\\\Documents\\\\Practice\\\\Eng-French\\\\EF1.csv\\\\019.part',\n",
       " 'C:Users\\\\Bildad Otieno\\\\Documents\\\\Practice\\\\Eng-French\\\\EF1.csv\\\\020.part',\n",
       " 'C:Users\\\\Bildad Otieno\\\\Documents\\\\Practice\\\\Eng-French\\\\EF1.csv\\\\021.part',\n",
       " 'C:Users\\\\Bildad Otieno\\\\Documents\\\\Practice\\\\Eng-French\\\\EF1.csv\\\\022.part',\n",
       " 'C:Users\\\\Bildad Otieno\\\\Documents\\\\Practice\\\\Eng-French\\\\EF1.csv\\\\023.part',\n",
       " 'C:Users\\\\Bildad Otieno\\\\Documents\\\\Practice\\\\Eng-French\\\\EF1.csv\\\\024.part',\n",
       " 'C:Users\\\\Bildad Otieno\\\\Documents\\\\Practice\\\\Eng-French\\\\EF1.csv\\\\025.part',\n",
       " 'C:Users\\\\Bildad Otieno\\\\Documents\\\\Practice\\\\Eng-French\\\\EF1.csv\\\\026.part',\n",
       " 'C:Users\\\\Bildad Otieno\\\\Documents\\\\Practice\\\\Eng-French\\\\EF1.csv\\\\027.part',\n",
       " 'C:Users\\\\Bildad Otieno\\\\Documents\\\\Practice\\\\Eng-French\\\\EF1.csv\\\\028.part',\n",
       " 'C:Users\\\\Bildad Otieno\\\\Documents\\\\Practice\\\\Eng-French\\\\EF1.csv\\\\029.part',\n",
       " 'C:Users\\\\Bildad Otieno\\\\Documents\\\\Practice\\\\Eng-French\\\\EF1.csv\\\\030.part',\n",
       " 'C:Users\\\\Bildad Otieno\\\\Documents\\\\Practice\\\\Eng-French\\\\EF1.csv\\\\031.part',\n",
       " 'C:Users\\\\Bildad Otieno\\\\Documents\\\\Practice\\\\Eng-French\\\\EF1.csv\\\\032.part',\n",
       " 'C:Users\\\\Bildad Otieno\\\\Documents\\\\Practice\\\\Eng-French\\\\EF1.csv\\\\033.part',\n",
       " 'C:Users\\\\Bildad Otieno\\\\Documents\\\\Practice\\\\Eng-French\\\\EF1.csv\\\\034.part',\n",
       " 'C:Users\\\\Bildad Otieno\\\\Documents\\\\Practice\\\\Eng-French\\\\EF1.csv\\\\035.part',\n",
       " 'C:Users\\\\Bildad Otieno\\\\Documents\\\\Practice\\\\Eng-French\\\\EF1.csv\\\\036.part',\n",
       " 'C:Users\\\\Bildad Otieno\\\\Documents\\\\Practice\\\\Eng-French\\\\EF1.csv\\\\037.part',\n",
       " 'C:Users\\\\Bildad Otieno\\\\Documents\\\\Practice\\\\Eng-French\\\\EF1.csv\\\\038.part',\n",
       " 'C:Users\\\\Bildad Otieno\\\\Documents\\\\Practice\\\\Eng-French\\\\EF1.csv\\\\039.part',\n",
       " 'C:Users\\\\Bildad Otieno\\\\Documents\\\\Practice\\\\Eng-French\\\\EF1.csv\\\\040.part',\n",
       " 'C:Users\\\\Bildad Otieno\\\\Documents\\\\Practice\\\\Eng-French\\\\EF1.csv\\\\041.part',\n",
       " 'C:Users\\\\Bildad Otieno\\\\Documents\\\\Practice\\\\Eng-French\\\\EF1.csv\\\\042.part',\n",
       " 'C:Users\\\\Bildad Otieno\\\\Documents\\\\Practice\\\\Eng-French\\\\EF1.csv\\\\043.part',\n",
       " 'C:Users\\\\Bildad Otieno\\\\Documents\\\\Practice\\\\Eng-French\\\\EF1.csv\\\\044.part',\n",
       " 'C:Users\\\\Bildad Otieno\\\\Documents\\\\Practice\\\\Eng-French\\\\EF1.csv\\\\045.part',\n",
       " 'C:Users\\\\Bildad Otieno\\\\Documents\\\\Practice\\\\Eng-French\\\\EF1.csv\\\\046.part',\n",
       " 'C:Users\\\\Bildad Otieno\\\\Documents\\\\Practice\\\\Eng-French\\\\EF1.csv\\\\047.part',\n",
       " 'C:Users\\\\Bildad Otieno\\\\Documents\\\\Practice\\\\Eng-French\\\\EF1.csv\\\\048.part',\n",
       " 'C:Users\\\\Bildad Otieno\\\\Documents\\\\Practice\\\\Eng-French\\\\EF1.csv\\\\049.part',\n",
       " 'C:Users\\\\Bildad Otieno\\\\Documents\\\\Practice\\\\Eng-French\\\\EF1.csv\\\\050.part',\n",
       " 'C:Users\\\\Bildad Otieno\\\\Documents\\\\Practice\\\\Eng-French\\\\EF1.csv\\\\051.part',\n",
       " 'C:Users\\\\Bildad Otieno\\\\Documents\\\\Practice\\\\Eng-French\\\\EF1.csv\\\\052.part',\n",
       " 'C:Users\\\\Bildad Otieno\\\\Documents\\\\Practice\\\\Eng-French\\\\EF1.csv\\\\053.part',\n",
       " 'C:Users\\\\Bildad Otieno\\\\Documents\\\\Practice\\\\Eng-French\\\\EF1.csv\\\\054.part',\n",
       " 'C:Users\\\\Bildad Otieno\\\\Documents\\\\Practice\\\\Eng-French\\\\EF1.csv\\\\055.part',\n",
       " 'C:Users\\\\Bildad Otieno\\\\Documents\\\\Practice\\\\Eng-French\\\\EF1.csv\\\\056.part',\n",
       " 'C:Users\\\\Bildad Otieno\\\\Documents\\\\Practice\\\\Eng-French\\\\EF1.csv\\\\057.part',\n",
       " 'C:Users\\\\Bildad Otieno\\\\Documents\\\\Practice\\\\Eng-French\\\\EF1.csv\\\\058.part',\n",
       " 'C:Users\\\\Bildad Otieno\\\\Documents\\\\Practice\\\\Eng-French\\\\EF1.csv\\\\059.part',\n",
       " 'C:Users\\\\Bildad Otieno\\\\Documents\\\\Practice\\\\Eng-French\\\\EF1.csv\\\\060.part',\n",
       " 'C:Users\\\\Bildad Otieno\\\\Documents\\\\Practice\\\\Eng-French\\\\EF1.csv\\\\061.part',\n",
       " 'C:Users\\\\Bildad Otieno\\\\Documents\\\\Practice\\\\Eng-French\\\\EF1.csv\\\\062.part',\n",
       " 'C:Users\\\\Bildad Otieno\\\\Documents\\\\Practice\\\\Eng-French\\\\EF1.csv\\\\063.part',\n",
       " 'C:Users\\\\Bildad Otieno\\\\Documents\\\\Practice\\\\Eng-French\\\\EF1.csv\\\\064.part',\n",
       " 'C:Users\\\\Bildad Otieno\\\\Documents\\\\Practice\\\\Eng-French\\\\EF1.csv\\\\065.part',\n",
       " 'C:Users\\\\Bildad Otieno\\\\Documents\\\\Practice\\\\Eng-French\\\\EF1.csv\\\\066.part',\n",
       " 'C:Users\\\\Bildad Otieno\\\\Documents\\\\Practice\\\\Eng-French\\\\EF1.csv\\\\067.part',\n",
       " 'C:Users\\\\Bildad Otieno\\\\Documents\\\\Practice\\\\Eng-French\\\\EF1.csv\\\\068.part',\n",
       " 'C:Users\\\\Bildad Otieno\\\\Documents\\\\Practice\\\\Eng-French\\\\EF1.csv\\\\069.part',\n",
       " 'C:Users\\\\Bildad Otieno\\\\Documents\\\\Practice\\\\Eng-French\\\\EF1.csv\\\\070.part',\n",
       " 'C:Users\\\\Bildad Otieno\\\\Documents\\\\Practice\\\\Eng-French\\\\EF1.csv\\\\071.part',\n",
       " 'C:Users\\\\Bildad Otieno\\\\Documents\\\\Practice\\\\Eng-French\\\\EF1.csv\\\\072.part',\n",
       " 'C:Users\\\\Bildad Otieno\\\\Documents\\\\Practice\\\\Eng-French\\\\EF1.csv\\\\073.part',\n",
       " 'C:Users\\\\Bildad Otieno\\\\Documents\\\\Practice\\\\Eng-French\\\\EF1.csv\\\\074.part',\n",
       " 'C:Users\\\\Bildad Otieno\\\\Documents\\\\Practice\\\\Eng-French\\\\EF1.csv\\\\075.part',\n",
       " 'C:Users\\\\Bildad Otieno\\\\Documents\\\\Practice\\\\Eng-French\\\\EF1.csv\\\\076.part',\n",
       " 'C:Users\\\\Bildad Otieno\\\\Documents\\\\Practice\\\\Eng-French\\\\EF1.csv\\\\077.part',\n",
       " 'C:Users\\\\Bildad Otieno\\\\Documents\\\\Practice\\\\Eng-French\\\\EF1.csv\\\\078.part',\n",
       " 'C:Users\\\\Bildad Otieno\\\\Documents\\\\Practice\\\\Eng-French\\\\EF1.csv\\\\079.part',\n",
       " 'C:Users\\\\Bildad Otieno\\\\Documents\\\\Practice\\\\Eng-French\\\\EF1.csv\\\\080.part',\n",
       " 'C:Users\\\\Bildad Otieno\\\\Documents\\\\Practice\\\\Eng-French\\\\EF1.csv\\\\081.part',\n",
       " 'C:Users\\\\Bildad Otieno\\\\Documents\\\\Practice\\\\Eng-French\\\\EF1.csv\\\\082.part',\n",
       " 'C:Users\\\\Bildad Otieno\\\\Documents\\\\Practice\\\\Eng-French\\\\EF1.csv\\\\083.part',\n",
       " 'C:Users\\\\Bildad Otieno\\\\Documents\\\\Practice\\\\Eng-French\\\\EF1.csv\\\\084.part',\n",
       " 'C:Users\\\\Bildad Otieno\\\\Documents\\\\Practice\\\\Eng-French\\\\EF1.csv\\\\085.part',\n",
       " 'C:Users\\\\Bildad Otieno\\\\Documents\\\\Practice\\\\Eng-French\\\\EF1.csv\\\\086.part',\n",
       " 'C:Users\\\\Bildad Otieno\\\\Documents\\\\Practice\\\\Eng-French\\\\EF1.csv\\\\087.part',\n",
       " 'C:Users\\\\Bildad Otieno\\\\Documents\\\\Practice\\\\Eng-French\\\\EF1.csv\\\\088.part',\n",
       " 'C:Users\\\\Bildad Otieno\\\\Documents\\\\Practice\\\\Eng-French\\\\EF1.csv\\\\089.part',\n",
       " 'C:Users\\\\Bildad Otieno\\\\Documents\\\\Practice\\\\Eng-French\\\\EF1.csv\\\\090.part',\n",
       " 'C:Users\\\\Bildad Otieno\\\\Documents\\\\Practice\\\\Eng-French\\\\EF1.csv\\\\091.part',\n",
       " 'C:Users\\\\Bildad Otieno\\\\Documents\\\\Practice\\\\Eng-French\\\\EF1.csv\\\\092.part',\n",
       " 'C:Users\\\\Bildad Otieno\\\\Documents\\\\Practice\\\\Eng-French\\\\EF1.csv\\\\093.part',\n",
       " 'C:Users\\\\Bildad Otieno\\\\Documents\\\\Practice\\\\Eng-French\\\\EF1.csv\\\\094.part',\n",
       " 'C:Users\\\\Bildad Otieno\\\\Documents\\\\Practice\\\\Eng-French\\\\EF1.csv\\\\095.part',\n",
       " 'C:Users\\\\Bildad Otieno\\\\Documents\\\\Practice\\\\Eng-French\\\\EF1.csv\\\\096.part',\n",
       " 'C:Users\\\\Bildad Otieno\\\\Documents\\\\Practice\\\\Eng-French\\\\EF1.csv\\\\097.part',\n",
       " 'C:Users\\\\Bildad Otieno\\\\Documents\\\\Practice\\\\Eng-French\\\\EF1.csv\\\\098.part',\n",
       " 'C:Users\\\\Bildad Otieno\\\\Documents\\\\Practice\\\\Eng-French\\\\EF1.csv\\\\099.part',\n",
       " 'C:Users\\\\Bildad Otieno\\\\Documents\\\\Practice\\\\Eng-French\\\\EF1.csv\\\\100.part',\n",
       " 'C:Users\\\\Bildad Otieno\\\\Documents\\\\Practice\\\\Eng-French\\\\EF1.csv\\\\101.part',\n",
       " 'C:Users\\\\Bildad Otieno\\\\Documents\\\\Practice\\\\Eng-French\\\\EF1.csv\\\\102.part',\n",
       " 'C:Users\\\\Bildad Otieno\\\\Documents\\\\Practice\\\\Eng-French\\\\EF1.csv\\\\103.part',\n",
       " 'C:Users\\\\Bildad Otieno\\\\Documents\\\\Practice\\\\Eng-French\\\\EF1.csv\\\\104.part',\n",
       " 'C:Users\\\\Bildad Otieno\\\\Documents\\\\Practice\\\\Eng-French\\\\EF1.csv\\\\105.part',\n",
       " 'C:Users\\\\Bildad Otieno\\\\Documents\\\\Practice\\\\Eng-French\\\\EF1.csv\\\\106.part',\n",
       " 'C:Users\\\\Bildad Otieno\\\\Documents\\\\Practice\\\\Eng-French\\\\EF1.csv\\\\107.part',\n",
       " 'C:Users\\\\Bildad Otieno\\\\Documents\\\\Practice\\\\Eng-French\\\\EF1.csv\\\\108.part',\n",
       " 'C:Users\\\\Bildad Otieno\\\\Documents\\\\Practice\\\\Eng-French\\\\EF1.csv\\\\109.part',\n",
       " 'C:Users\\\\Bildad Otieno\\\\Documents\\\\Practice\\\\Eng-French\\\\EF1.csv\\\\110.part',\n",
       " 'C:Users\\\\Bildad Otieno\\\\Documents\\\\Practice\\\\Eng-French\\\\EF1.csv\\\\111.part',\n",
       " 'C:Users\\\\Bildad Otieno\\\\Documents\\\\Practice\\\\Eng-French\\\\EF1.csv\\\\112.part',\n",
       " 'C:Users\\\\Bildad Otieno\\\\Documents\\\\Practice\\\\Eng-French\\\\EF1.csv\\\\113.part',\n",
       " 'C:Users\\\\Bildad Otieno\\\\Documents\\\\Practice\\\\Eng-French\\\\EF1.csv\\\\114.part',\n",
       " 'C:Users\\\\Bildad Otieno\\\\Documents\\\\Practice\\\\Eng-French\\\\EF1.csv\\\\115.part',\n",
       " 'C:Users\\\\Bildad Otieno\\\\Documents\\\\Practice\\\\Eng-French\\\\EF1.csv\\\\116.part',\n",
       " 'C:Users\\\\Bildad Otieno\\\\Documents\\\\Practice\\\\Eng-French\\\\EF1.csv\\\\117.part',\n",
       " 'C:Users\\\\Bildad Otieno\\\\Documents\\\\Practice\\\\Eng-French\\\\EF1.csv\\\\118.part',\n",
       " 'C:Users\\\\Bildad Otieno\\\\Documents\\\\Practice\\\\Eng-French\\\\EF1.csv\\\\119.part',\n",
       " 'C:Users\\\\Bildad Otieno\\\\Documents\\\\Practice\\\\Eng-French\\\\EF1.csv\\\\120.part',\n",
       " 'C:Users\\\\Bildad Otieno\\\\Documents\\\\Practice\\\\Eng-French\\\\EF1.csv\\\\121.part',\n",
       " 'C:Users\\\\Bildad Otieno\\\\Documents\\\\Practice\\\\Eng-French\\\\EF1.csv\\\\122.part',\n",
       " 'C:Users\\\\Bildad Otieno\\\\Documents\\\\Practice\\\\Eng-French\\\\EF1.csv\\\\123.part',\n",
       " 'C:Users\\\\Bildad Otieno\\\\Documents\\\\Practice\\\\Eng-French\\\\EF1.csv\\\\124.part',\n",
       " 'C:Users\\\\Bildad Otieno\\\\Documents\\\\Practice\\\\Eng-French\\\\EF1.csv\\\\125.part',\n",
       " 'C:Users\\\\Bildad Otieno\\\\Documents\\\\Practice\\\\Eng-French\\\\EF1.csv\\\\126.part',\n",
       " 'C:Users\\\\Bildad Otieno\\\\Documents\\\\Practice\\\\Eng-French\\\\EF1.csv\\\\127.part',\n",
       " 'C:Users\\\\Bildad Otieno\\\\Documents\\\\Practice\\\\Eng-French\\\\EF1.csv\\\\128.part',\n",
       " 'C:Users\\\\Bildad Otieno\\\\Documents\\\\Practice\\\\Eng-French\\\\EF1.csv\\\\129.part',\n",
       " 'C:Users\\\\Bildad Otieno\\\\Documents\\\\Practice\\\\Eng-French\\\\EF1.csv\\\\130.part']"
      ]
     },
     "execution_count": 11,
     "metadata": {},
     "output_type": "execute_result"
    }
   ],
   "source": [
    "#Save the Dask Dataframe to CSV files(1 file per partition)\n",
    "df.to_csv('C:Users/Bildad Otieno/Documents/Practice/Eng-French/EF1.csv')"
   ]
  },
  {
   "cell_type": "code",
   "execution_count": 9,
   "metadata": {},
   "outputs": [],
   "source": [
    "#Save the Dask DataFrame to a single CSV file\n",
    "df.compute().to_csv('C:Users/Bildad Otieno/Documents/Practice/Eng-French/EF2.csv')"
   ]
  },
  {
   "attachments": {},
   "cell_type": "markdown",
   "metadata": {},
   "source": [
    "### Checking Memory Usage of Each Column"
   ]
  },
  {
   "cell_type": "code",
   "execution_count": 12,
   "metadata": {},
   "outputs": [
    {
     "data": {
      "text/plain": [
       "Dask Series Structure:\n",
       "npartitions=1\n",
       "    int64\n",
       "      ...\n",
       "dtype: int64\n",
       "Dask Name: series-groupby-sum-agg, 545 tasks"
      ]
     },
     "execution_count": 12,
     "metadata": {},
     "output_type": "execute_result"
    }
   ],
   "source": [
    "df.memory_usage(deep=True)"
   ]
  },
  {
   "cell_type": "code",
   "execution_count": 15,
   "metadata": {},
   "outputs": [],
   "source": [
    "\n",
    "# Shut down the Dask cluster\n",
    "client.close()\n",
    "cluster.close()\n"
   ]
  }
 ],
 "metadata": {
  "kernelspec": {
   "display_name": "Python 3 (ipykernel)",
   "language": "python",
   "name": "python3"
  },
  "language_info": {
   "codemirror_mode": {
    "name": "ipython",
    "version": 3
   },
   "file_extension": ".py",
   "mimetype": "text/x-python",
   "name": "python",
   "nbconvert_exporter": "python",
   "pygments_lexer": "ipython3",
   "version": "3.10.9"
  }
 },
 "nbformat": 4,
 "nbformat_minor": 2
}
